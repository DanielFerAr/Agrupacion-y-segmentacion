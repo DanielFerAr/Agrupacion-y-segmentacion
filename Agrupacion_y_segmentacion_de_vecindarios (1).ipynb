{
 "cells": [
  {
   "cell_type": "markdown",
   "metadata": {
    "collapsed": true
   },
   "source": [
    "# Agrupación y Segmentación de Vecindarios en la Ciudad de Toronto, Canadá\n",
    "\n",
    "Realizado por Daniel Fernandez"
   ]
  },
  {
   "cell_type": "markdown",
   "metadata": {},
   "source": [
    "### Parte 1 - Explorar y agrupar los vecindarios de Toronto"
   ]
  },
  {
   "cell_type": "code",
   "execution_count": 2,
   "metadata": {},
   "outputs": [
    {
     "data": {
      "text/html": [
       "<div>\n",
       "<style scoped>\n",
       "    .dataframe tbody tr th:only-of-type {\n",
       "        vertical-align: middle;\n",
       "    }\n",
       "\n",
       "    .dataframe tbody tr th {\n",
       "        vertical-align: top;\n",
       "    }\n",
       "\n",
       "    .dataframe thead th {\n",
       "        text-align: right;\n",
       "    }\n",
       "</style>\n",
       "<table border=\"1\" class=\"dataframe\">\n",
       "  <thead>\n",
       "    <tr style=\"text-align: right;\">\n",
       "      <th></th>\n",
       "      <th>Postal Code</th>\n",
       "      <th>Borough</th>\n",
       "      <th>Neighborhood</th>\n",
       "    </tr>\n",
       "  </thead>\n",
       "  <tbody>\n",
       "    <tr>\n",
       "      <th>0</th>\n",
       "      <td>M3A</td>\n",
       "      <td>North York</td>\n",
       "      <td>Parkwoods</td>\n",
       "    </tr>\n",
       "    <tr>\n",
       "      <th>1</th>\n",
       "      <td>M4A</td>\n",
       "      <td>North York</td>\n",
       "      <td>Victoria Village</td>\n",
       "    </tr>\n",
       "    <tr>\n",
       "      <th>2</th>\n",
       "      <td>M5A</td>\n",
       "      <td>Downtown Toronto</td>\n",
       "      <td>Regent Park, Harbourfront</td>\n",
       "    </tr>\n",
       "    <tr>\n",
       "      <th>3</th>\n",
       "      <td>M6A</td>\n",
       "      <td>North York</td>\n",
       "      <td>Lawrence Manor, Lawrence Heights</td>\n",
       "    </tr>\n",
       "    <tr>\n",
       "      <th>4</th>\n",
       "      <td>M7A</td>\n",
       "      <td>Queen's Park</td>\n",
       "      <td>Ontario Provincial Government</td>\n",
       "    </tr>\n",
       "  </tbody>\n",
       "</table>\n",
       "</div>"
      ],
      "text/plain": [
       "  Postal Code           Borough                      Neighborhood\n",
       "0         M3A        North York                         Parkwoods\n",
       "1         M4A        North York                  Victoria Village\n",
       "2         M5A  Downtown Toronto         Regent Park, Harbourfront\n",
       "3         M6A        North York  Lawrence Manor, Lawrence Heights\n",
       "4         M7A      Queen's Park     Ontario Provincial Government"
      ]
     },
     "execution_count": 2,
     "metadata": {},
     "output_type": "execute_result"
    }
   ],
   "source": [
    "# Importamos librerías \n",
    "import pandas as pd\n",
    "import numpy as np\n",
    "import requests\n",
    "from bs4 import BeautifulSoup\n",
    "\n",
    "source = requests.get('https://en.wikipedia.org/wiki/List_of_postal_codes_of_Canada:_M').text\n",
    "\n",
    "soup = BeautifulSoup(source, 'html5lib')\n",
    "\n",
    "postal_codes_dict = {} # initialize an empty dictionary to save the data in\n",
    "for table_cell in soup.find_all('td'):\n",
    "    try:\n",
    "        postal_code = table_cell.p.b.text # get the postal code\n",
    "        postal_code_investigate = table_cell.span.text\n",
    "        neighborhoods_data = table_cell.span.text # get the rest of the data in the cell\n",
    "        borough = neighborhoods_data.split('(')[0] # get the borough in the cell\n",
    "        \n",
    "        # if the cell is not assigned then ignore it\n",
    "        if neighborhoods_data == 'Not assigned':\n",
    "            neighborhoods = []\n",
    "        # else process the data and add it to the dictionary\n",
    "        else:\n",
    "            postal_codes_dict[postal_code] = {}\n",
    "            \n",
    "            try:\n",
    "                neighborhoods = neighborhoods_data.split('(')[1]\n",
    "            \n",
    "                # remove parantheses from neighborhoods string\n",
    "                neighborhoods = neighborhoods.replace('(', ' ')\n",
    "                neighborhoods = neighborhoods.replace(')', ' ')\n",
    "\n",
    "                neighborhoods_names = neighborhoods.split('/')\n",
    "                neighborhoods_clean = ', '.join([name.strip() for name in neighborhoods_names])\n",
    "            except:\n",
    "                borough = borough.strip('\\n')\n",
    "                neighborhoods_clean = borough\n",
    " \n",
    "            # add borough and neighborhood to dictionary\n",
    "            postal_codes_dict[postal_code]['borough'] = borough\n",
    "            postal_codes_dict[postal_code]['neighborhoods'] = neighborhoods_clean\n",
    "    except:\n",
    "        pass\n",
    "    \n",
    "# create an empty dataframe\n",
    "columns = ['PostalCode', 'Borough', 'Neighborhood']\n",
    "toronto_data = pd.DataFrame(columns=columns)\n",
    "toronto_data\n",
    "\n",
    "# populate dataframe with data from dictionary\n",
    "for ind, postal_code in enumerate(postal_codes_dict):\n",
    "    borough = postal_codes_dict[postal_code]['borough']\n",
    "    neighborhood = postal_codes_dict[postal_code]['neighborhoods']\n",
    "    toronto_data = toronto_data.append({\"PostalCode\": postal_code, \n",
    "                                        \"Borough\": borough, \n",
    "                                        \"Neighborhood\": neighborhood},\n",
    "                                        ignore_index=True)\n",
    "\n",
    "# print number of rows of dataframe\n",
    "toronto_data.shape[0]\n",
    "\n",
    "# Añadiendo datos a columnas del dataframe\n",
    "df['Postal Code'] = codes_array.tolist()\n",
    "df['Borough'] = boroughs_array.tolist()\n",
    "df['Neighborhood'] = neighborhoods_array.tolist()\n",
    "\n",
    "df.head()\n"
   ]
  },
  {
   "cell_type": "markdown",
   "metadata": {},
   "source": [
    "### Parte 2"
   ]
  },
  {
   "cell_type": "code",
   "execution_count": 6,
   "metadata": {},
   "outputs": [
    {
     "data": {
      "text/html": [
       "<div>\n",
       "<style scoped>\n",
       "    .dataframe tbody tr th:only-of-type {\n",
       "        vertical-align: middle;\n",
       "    }\n",
       "\n",
       "    .dataframe tbody tr th {\n",
       "        vertical-align: top;\n",
       "    }\n",
       "\n",
       "    .dataframe thead th {\n",
       "        text-align: right;\n",
       "    }\n",
       "</style>\n",
       "<table border=\"1\" class=\"dataframe\">\n",
       "  <thead>\n",
       "    <tr style=\"text-align: right;\">\n",
       "      <th></th>\n",
       "      <th>Postal Code</th>\n",
       "      <th>Borough</th>\n",
       "      <th>Neighborhood</th>\n",
       "      <th>Latitude</th>\n",
       "      <th>Longitude</th>\n",
       "    </tr>\n",
       "  </thead>\n",
       "  <tbody>\n",
       "    <tr>\n",
       "      <th>0</th>\n",
       "      <td>M3A</td>\n",
       "      <td>North York</td>\n",
       "      <td>Parkwoods</td>\n",
       "      <td>43.753259</td>\n",
       "      <td>-79.329656</td>\n",
       "    </tr>\n",
       "    <tr>\n",
       "      <th>1</th>\n",
       "      <td>M4A</td>\n",
       "      <td>North York</td>\n",
       "      <td>Victoria Village</td>\n",
       "      <td>43.725882</td>\n",
       "      <td>-79.315572</td>\n",
       "    </tr>\n",
       "    <tr>\n",
       "      <th>2</th>\n",
       "      <td>M5A</td>\n",
       "      <td>Downtown Toronto</td>\n",
       "      <td>Regent Park, Harbourfront</td>\n",
       "      <td>43.654260</td>\n",
       "      <td>-79.360636</td>\n",
       "    </tr>\n",
       "    <tr>\n",
       "      <th>3</th>\n",
       "      <td>M6A</td>\n",
       "      <td>North York</td>\n",
       "      <td>Lawrence Manor, Lawrence Heights</td>\n",
       "      <td>43.718518</td>\n",
       "      <td>-79.464763</td>\n",
       "    </tr>\n",
       "    <tr>\n",
       "      <th>4</th>\n",
       "      <td>M7A</td>\n",
       "      <td>Queen's Park</td>\n",
       "      <td>Ontario Provincial Government</td>\n",
       "      <td>43.662301</td>\n",
       "      <td>-79.389494</td>\n",
       "    </tr>\n",
       "  </tbody>\n",
       "</table>\n",
       "</div>"
      ],
      "text/plain": [
       "  Postal Code           Borough                      Neighborhood   Latitude  \\\n",
       "0         M3A        North York                         Parkwoods  43.753259   \n",
       "1         M4A        North York                  Victoria Village  43.725882   \n",
       "2         M5A  Downtown Toronto         Regent Park, Harbourfront  43.654260   \n",
       "3         M6A        North York  Lawrence Manor, Lawrence Heights  43.718518   \n",
       "4         M7A      Queen's Park     Ontario Provincial Government  43.662301   \n",
       "\n",
       "   Longitude  \n",
       "0 -79.329656  \n",
       "1 -79.315572  \n",
       "2 -79.360636  \n",
       "3 -79.464763  \n",
       "4 -79.389494  "
      ]
     },
     "execution_count": 6,
     "metadata": {},
     "output_type": "execute_result"
    }
   ],
   "source": [
    "import geocoder # import geocoder\n",
    "\n",
    "# initialize your variable to None\n",
    "lat_lng_coords = None\n",
    "\n",
    "# loop until you get the coordinates\n",
    "while(lat_lng_coords is None):\n",
    "  g = geocoder.google('{}, Toronto, Ontario'.format(postal_code))\n",
    "  lat_lng_coords = g.latlng\n",
    "\n",
    "latitude = lat_lng_coords[0]\n",
    "longitude = lat_lng_coords[1]"
   ]
  },
  {
   "cell_type": "markdown",
   "metadata": {},
   "source": [
    "### Parte 3"
   ]
  },
  {
   "cell_type": "code",
   "execution_count": 9,
   "metadata": {},
   "outputs": [
    {
     "name": "stdout",
     "output_type": "stream",
     "text": [
      "Las coordenadas geográficas de Toronto son 43.6534817, -79.3839347.\n"
     ]
    }
   ],
   "source": [
    "#IMPORTANDO LIBRERIAS NECESARIAS\n",
    "from geopy.geocoders import Nominatim \n",
    "import matplotlib.cm as cm\n",
    "import matplotlib.colors as colors \n",
    "from sklearn.cluster import KMeans\n",
    "import folium\n",
    "\n",
    "# Obteniendo las coordenadas de la ciudad de Toronto\n",
    "address = 'Toronto, Canada'\n",
    "\n",
    "geolocator = Nominatim(user_agent=\"to_explorer\")\n",
    "location = geolocator.geocode(address)\n",
    "latitude = location.latitude\n",
    "longitude = location.longitude\n",
    "print('Las coordenadas geográficas de Toronto son {}, {}.'.format(latitude, longitude))"
   ]
  },
  {
   "cell_type": "code",
   "execution_count": 15,
   "metadata": {
    "scrolled": true
   },
   "outputs": [],
   "source": [
    "# Creando un mapa de Toronto usando los datos de latitud y longitud\n",
    "map_toronto = folium.Map(location=[latitude, longitude], zoom_start=12)\n",
    "\n",
    "for lat, lng, borough, neighborhood in zip(df_TO['Latitude'], df_TO['Longitude'], df_TO['Borough'], df_TO['Neighborhood']):\n",
    "    label = '{}, {}'.format(neighborhood, borough)\n",
    "    label = folium.Popup(label, parse_html=True)\n",
    "    folium.CircleMarker(\n",
    "        [lat, lng],\n",
    "        radius=5,\n",
    "        popup=label,\n",
    "        color='blue',\n",
    "        fill=True,\n",
    "        fill_color='#3186cc',\n",
    "        fill_opacity=0.7,\n",
    "        parse_html=False).add_to(map_toronto)  \n",
    "    "
   ]
  },
  {
   "cell_type": "markdown",
   "metadata": {},
   "source": [
    "\n",
    "\n",
    "![Gráfico](https://raw.githubusercontent.com/paolilla/coursera-capstone/main/img1.png)"
   ]
  }
 ],
 "metadata": {
  "kernelspec": {
   "display_name": "Python 3 (ipykernel)",
   "language": "python",
   "name": "python3"
  },
  "language_info": {
   "codemirror_mode": {
    "name": "ipython",
    "version": 3
   },
   "file_extension": ".py",
   "mimetype": "text/x-python",
   "name": "python",
   "nbconvert_exporter": "python",
   "pygments_lexer": "ipython3",
   "version": "3.9.13"
  },
  "vscode": {
   "interpreter": {
    "hash": "0aff90fda30f4767a0e50784a1829765a1bf8962c70b312efdd1a5e4af0efa99"
   }
  }
 },
 "nbformat": 4,
 "nbformat_minor": 1
}
